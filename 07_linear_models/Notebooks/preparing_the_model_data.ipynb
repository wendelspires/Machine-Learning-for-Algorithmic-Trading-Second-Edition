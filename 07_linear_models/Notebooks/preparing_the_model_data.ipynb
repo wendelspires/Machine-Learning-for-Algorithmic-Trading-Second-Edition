{
 "cells": [
  {
   "cell_type": "code",
   "execution_count": 1,
   "source": [
    "import warnings"
   ],
   "outputs": [],
   "metadata": {}
  },
  {
   "cell_type": "code",
   "execution_count": 2,
   "source": [
    "%matplotlib inline\r\n",
    "\r\n",
    "import numpy as np\r\n",
    "import pandas as pd\r\n",
    "\r\n",
    "import matplotlib.pyplot as plt\r\n",
    "import seaborn as sns\r\n",
    "\r\n",
    "from scipy.stats import pearsonr\r\n",
    "import talib"
   ],
   "outputs": [],
   "metadata": {}
  },
  {
   "cell_type": "code",
   "execution_count": 32,
   "source": [
    "MONTH = 21\r\n",
    "YEAR = 12 * MONTH"
   ],
   "outputs": [],
   "metadata": {}
  },
  {
   "cell_type": "code",
   "execution_count": 31,
   "source": [
    "START = '2013-01-01'\r\n",
    "END = '2017-12-31'\r\n",
    "\r\n",
    "sns.set_style('whitegrid')\r\n",
    "idx = pd.IndexSlice"
   ],
   "outputs": [],
   "metadata": {}
  },
  {
   "cell_type": "code",
   "execution_count": 36,
   "source": [
    "df = (pd.read_csv(r'C:\\Users\\Wendel\\OneDrive\\Machine-Learning-for-Algorithmic-Trading-Second-Edition\\data\\wiki_prices\\teste.csv',\r\n",
    "                 parse_dates=['date'],\r\n",
    "                 index_col=['date', 'ticker'],\r\n",
    "                 infer_datetime_format=True)\r\n",
    "                 .sort_index())[{'adj_open','adj_high', 'adj_low', 'adj_close', 'adj_volume'}]"
   ],
   "outputs": [],
   "metadata": {}
  },
  {
   "cell_type": "code",
   "execution_count": 37,
   "source": [
    "prices = df.copy()"
   ],
   "outputs": [],
   "metadata": {}
  },
  {
   "cell_type": "code",
   "execution_count": 34,
   "source": [
    "min_obs = 2 * YEAR\r\n",
    "nobs = df.groupby(level='ticker').size()\r\n",
    "keep = nobs[nobs > min_obs].index\r\n",
    "df.loc[idx[keep,:], :]"
   ],
   "outputs": [],
   "metadata": {}
  },
  {
   "cell_type": "code",
   "execution_count": 38,
   "source": [
    "df"
   ],
   "outputs": [
    {
     "output_type": "execute_result",
     "data": {
      "text/html": [
       "<div>\n",
       "<style scoped>\n",
       "    .dataframe tbody tr th:only-of-type {\n",
       "        vertical-align: middle;\n",
       "    }\n",
       "\n",
       "    .dataframe tbody tr th {\n",
       "        vertical-align: top;\n",
       "    }\n",
       "\n",
       "    .dataframe thead th {\n",
       "        text-align: right;\n",
       "    }\n",
       "</style>\n",
       "<table border=\"1\" class=\"dataframe\">\n",
       "  <thead>\n",
       "    <tr style=\"text-align: right;\">\n",
       "      <th></th>\n",
       "      <th></th>\n",
       "      <th>adj_low</th>\n",
       "      <th>adj_open</th>\n",
       "      <th>adj_high</th>\n",
       "      <th>adj_close</th>\n",
       "      <th>adj_volume</th>\n",
       "    </tr>\n",
       "    <tr>\n",
       "      <th>date</th>\n",
       "      <th>ticker</th>\n",
       "      <th></th>\n",
       "      <th></th>\n",
       "      <th></th>\n",
       "      <th></th>\n",
       "      <th></th>\n",
       "    </tr>\n",
       "  </thead>\n",
       "  <tbody>\n",
       "    <tr>\n",
       "      <th rowspan=\"5\" valign=\"top\">1962-01-02</th>\n",
       "      <th>ARNC</th>\n",
       "      <td>3.448668</td>\n",
       "      <td>3.458163</td>\n",
       "      <td>3.468185</td>\n",
       "      <td>3.448668</td>\n",
       "      <td>4.480000e+04</td>\n",
       "    </tr>\n",
       "    <tr>\n",
       "      <th>BA</th>\n",
       "      <td>0.871816</td>\n",
       "      <td>0.887160</td>\n",
       "      <td>0.887160</td>\n",
       "      <td>0.871816</td>\n",
       "      <td>3.521981e+05</td>\n",
       "    </tr>\n",
       "    <tr>\n",
       "      <th>CAT</th>\n",
       "      <td>1.562791</td>\n",
       "      <td>1.578370</td>\n",
       "      <td>1.593539</td>\n",
       "      <td>1.578370</td>\n",
       "      <td>1.632000e+05</td>\n",
       "    </tr>\n",
       "    <tr>\n",
       "      <th>DD</th>\n",
       "      <td>4.718414</td>\n",
       "      <td>4.718414</td>\n",
       "      <td>4.772144</td>\n",
       "      <td>4.718414</td>\n",
       "      <td>3.600000e+04</td>\n",
       "    </tr>\n",
       "    <tr>\n",
       "      <th>DIS</th>\n",
       "      <td>0.141259</td>\n",
       "      <td>0.141259</td>\n",
       "      <td>0.145999</td>\n",
       "      <td>0.141259</td>\n",
       "      <td>4.088582e+05</td>\n",
       "    </tr>\n",
       "    <tr>\n",
       "      <th>...</th>\n",
       "      <th>...</th>\n",
       "      <td>...</td>\n",
       "      <td>...</td>\n",
       "      <td>...</td>\n",
       "      <td>...</td>\n",
       "      <td>...</td>\n",
       "    </tr>\n",
       "    <tr>\n",
       "      <th rowspan=\"5\" valign=\"top\">2018-03-27</th>\n",
       "      <th>ZIXI</th>\n",
       "      <td>4.350000</td>\n",
       "      <td>4.430000</td>\n",
       "      <td>4.450000</td>\n",
       "      <td>4.390000</td>\n",
       "      <td>2.073040e+05</td>\n",
       "    </tr>\n",
       "    <tr>\n",
       "      <th>ZNGA</th>\n",
       "      <td>3.680000</td>\n",
       "      <td>3.850000</td>\n",
       "      <td>3.850000</td>\n",
       "      <td>3.700000</td>\n",
       "      <td>1.102601e+07</td>\n",
       "    </tr>\n",
       "    <tr>\n",
       "      <th>ZOES</th>\n",
       "      <td>14.750000</td>\n",
       "      <td>15.130000</td>\n",
       "      <td>15.240000</td>\n",
       "      <td>14.880000</td>\n",
       "      <td>2.612420e+05</td>\n",
       "    </tr>\n",
       "    <tr>\n",
       "      <th>ZTS</th>\n",
       "      <td>81.210000</td>\n",
       "      <td>84.080000</td>\n",
       "      <td>84.450000</td>\n",
       "      <td>81.860000</td>\n",
       "      <td>2.676191e+06</td>\n",
       "    </tr>\n",
       "    <tr>\n",
       "      <th>ZUMZ</th>\n",
       "      <td>23.350000</td>\n",
       "      <td>24.650000</td>\n",
       "      <td>24.650000</td>\n",
       "      <td>23.600000</td>\n",
       "      <td>4.038840e+05</td>\n",
       "    </tr>\n",
       "  </tbody>\n",
       "</table>\n",
       "<p>15389314 rows × 5 columns</p>\n",
       "</div>"
      ],
      "text/plain": [
       "                     adj_low   adj_open   adj_high  adj_close    adj_volume\n",
       "date       ticker                                                          \n",
       "1962-01-02 ARNC     3.448668   3.458163   3.468185   3.448668  4.480000e+04\n",
       "           BA       0.871816   0.887160   0.887160   0.871816  3.521981e+05\n",
       "           CAT      1.562791   1.578370   1.593539   1.578370  1.632000e+05\n",
       "           DD       4.718414   4.718414   4.772144   4.718414  3.600000e+04\n",
       "           DIS      0.141259   0.141259   0.145999   0.141259  4.088582e+05\n",
       "...                      ...        ...        ...        ...           ...\n",
       "2018-03-27 ZIXI     4.350000   4.430000   4.450000   4.390000  2.073040e+05\n",
       "           ZNGA     3.680000   3.850000   3.850000   3.700000  1.102601e+07\n",
       "           ZOES    14.750000  15.130000  15.240000  14.880000  2.612420e+05\n",
       "           ZTS     81.210000  84.080000  84.450000  81.860000  2.676191e+06\n",
       "           ZUMZ    23.350000  24.650000  24.650000  23.600000  4.038840e+05\n",
       "\n",
       "[15389314 rows x 5 columns]"
      ]
     },
     "metadata": {},
     "execution_count": 38
    }
   ],
   "metadata": {}
  },
  {
   "cell_type": "code",
   "execution_count": null,
   "source": [],
   "outputs": [],
   "metadata": {}
  }
 ],
 "metadata": {
  "orig_nbformat": 4,
  "language_info": {
   "name": "python",
   "version": "3.9.7",
   "mimetype": "text/x-python",
   "codemirror_mode": {
    "name": "ipython",
    "version": 3
   },
   "pygments_lexer": "ipython3",
   "nbconvert_exporter": "python",
   "file_extension": ".py"
  },
  "kernelspec": {
   "name": "python3",
   "display_name": "Python 3.9.7 64-bit"
  },
  "interpreter": {
   "hash": "183dceb56ef4d021afcefd19be4a9788cca5952f3dce5c33bfd6da6c8e89c35a"
  }
 },
 "nbformat": 4,
 "nbformat_minor": 2
}