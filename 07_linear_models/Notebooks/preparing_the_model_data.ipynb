{
 "cells": [
  {
   "cell_type": "code",
   "execution_count": 1,
   "source": [
    "import warnings"
   ],
   "outputs": [],
   "metadata": {}
  },
  {
   "cell_type": "code",
   "execution_count": 2,
   "source": [
    "%matplotlib inline\r\n",
    "\r\n",
    "import numpy as np\r\n",
    "import pandas as pd\r\n",
    "\r\n",
    "import matplotlib.pyplot as plt\r\n",
    "import seaborn as sns\r\n",
    "\r\n",
    "from scipy.stats import pearsonr\r\n",
    "import talib"
   ],
   "outputs": [],
   "metadata": {}
  },
  {
   "cell_type": "code",
   "execution_count": 3,
   "source": [
    "MONTH = 21\r\n",
    "YEAR = 12 * MONTH"
   ],
   "outputs": [],
   "metadata": {}
  },
  {
   "cell_type": "code",
   "execution_count": 4,
   "source": [
    "START = '2013-01-01'\r\n",
    "END = '2017-12-31'\r\n",
    "\r\n",
    "sns.set_style('whitegrid')\r\n",
    "idx = pd.IndexSlice"
   ],
   "outputs": [],
   "metadata": {}
  },
  {
   "cell_type": "code",
   "execution_count": 8,
   "source": [
    "#loading wiki stock prices & meta data\r\n",
    "ohlcv = pd.read_csv(r'C:\\Users\\Wendel\\OneDrive\\Machine-Learning-for-Algorithmic-Trading-Second-Edition\\data\\wiki_prices\\wiki_prices.csv')[{'date','adj_open','adj_high', 'adj_low','adj_close','adj_volume'}]\r\n",
    "ohlcv.set_index('date')"
   ],
   "outputs": [
    {
     "output_type": "execute_result",
     "data": {
      "text/html": [
       "<div>\n",
       "<style scoped>\n",
       "    .dataframe tbody tr th:only-of-type {\n",
       "        vertical-align: middle;\n",
       "    }\n",
       "\n",
       "    .dataframe tbody tr th {\n",
       "        vertical-align: top;\n",
       "    }\n",
       "\n",
       "    .dataframe thead th {\n",
       "        text-align: right;\n",
       "    }\n",
       "</style>\n",
       "<table border=\"1\" class=\"dataframe\">\n",
       "  <thead>\n",
       "    <tr style=\"text-align: right;\">\n",
       "      <th></th>\n",
       "      <th>adj_low</th>\n",
       "      <th>adj_open</th>\n",
       "      <th>adj_high</th>\n",
       "      <th>adj_close</th>\n",
       "      <th>adj_volume</th>\n",
       "    </tr>\n",
       "  </thead>\n",
       "  <tbody>\n",
       "    <tr>\n",
       "      <th>0</th>\n",
       "      <td>27.289627</td>\n",
       "      <td>31.041951</td>\n",
       "      <td>34.112034</td>\n",
       "      <td>30.018590</td>\n",
       "      <td>44739900.0</td>\n",
       "    </tr>\n",
       "    <tr>\n",
       "      <th>1</th>\n",
       "      <td>27.160002</td>\n",
       "      <td>29.295415</td>\n",
       "      <td>29.336350</td>\n",
       "      <td>27.548879</td>\n",
       "      <td>10897100.0</td>\n",
       "    </tr>\n",
       "    <tr>\n",
       "      <th>2</th>\n",
       "      <td>27.330562</td>\n",
       "      <td>28.183363</td>\n",
       "      <td>30.018590</td>\n",
       "      <td>30.018590</td>\n",
       "      <td>4705200.0</td>\n",
       "    </tr>\n",
       "    <tr>\n",
       "      <th>3</th>\n",
       "      <td>27.460188</td>\n",
       "      <td>28.995229</td>\n",
       "      <td>29.766161</td>\n",
       "      <td>27.460188</td>\n",
       "      <td>4274400.0</td>\n",
       "    </tr>\n",
       "    <tr>\n",
       "      <th>4</th>\n",
       "      <td>27.289627</td>\n",
       "      <td>27.378319</td>\n",
       "      <td>28.613174</td>\n",
       "      <td>28.012803</td>\n",
       "      <td>3464400.0</td>\n",
       "    </tr>\n",
       "    <tr>\n",
       "      <th>...</th>\n",
       "      <td>...</td>\n",
       "      <td>...</td>\n",
       "      <td>...</td>\n",
       "      <td>...</td>\n",
       "      <td>...</td>\n",
       "    </tr>\n",
       "    <tr>\n",
       "      <th>15389309</th>\n",
       "      <td>23.605800</td>\n",
       "      <td>23.800000</td>\n",
       "      <td>24.600000</td>\n",
       "      <td>23.950000</td>\n",
       "      <td>354092.0</td>\n",
       "    </tr>\n",
       "    <tr>\n",
       "      <th>15389310</th>\n",
       "      <td>23.300000</td>\n",
       "      <td>23.900000</td>\n",
       "      <td>24.350000</td>\n",
       "      <td>23.350000</td>\n",
       "      <td>269607.0</td>\n",
       "    </tr>\n",
       "    <tr>\n",
       "      <th>15389311</th>\n",
       "      <td>23.450000</td>\n",
       "      <td>23.550000</td>\n",
       "      <td>24.200000</td>\n",
       "      <td>23.550000</td>\n",
       "      <td>301584.0</td>\n",
       "    </tr>\n",
       "    <tr>\n",
       "      <th>15389312</th>\n",
       "      <td>23.700000</td>\n",
       "      <td>23.750000</td>\n",
       "      <td>24.800000</td>\n",
       "      <td>24.650000</td>\n",
       "      <td>375320.0</td>\n",
       "    </tr>\n",
       "    <tr>\n",
       "      <th>15389313</th>\n",
       "      <td>23.350000</td>\n",
       "      <td>24.650000</td>\n",
       "      <td>24.650000</td>\n",
       "      <td>23.600000</td>\n",
       "      <td>403884.0</td>\n",
       "    </tr>\n",
       "  </tbody>\n",
       "</table>\n",
       "<p>15389314 rows × 5 columns</p>\n",
       "</div>"
      ],
      "text/plain": [
       "            adj_low   adj_open   adj_high  adj_close  adj_volume\n",
       "0         27.289627  31.041951  34.112034  30.018590  44739900.0\n",
       "1         27.160002  29.295415  29.336350  27.548879  10897100.0\n",
       "2         27.330562  28.183363  30.018590  30.018590   4705200.0\n",
       "3         27.460188  28.995229  29.766161  27.460188   4274400.0\n",
       "4         27.289627  27.378319  28.613174  28.012803   3464400.0\n",
       "...             ...        ...        ...        ...         ...\n",
       "15389309  23.605800  23.800000  24.600000  23.950000    354092.0\n",
       "15389310  23.300000  23.900000  24.350000  23.350000    269607.0\n",
       "15389311  23.450000  23.550000  24.200000  23.550000    301584.0\n",
       "15389312  23.700000  23.750000  24.800000  24.650000    375320.0\n",
       "15389313  23.350000  24.650000  24.650000  23.600000    403884.0\n",
       "\n",
       "[15389314 rows x 5 columns]"
      ]
     },
     "metadata": {},
     "execution_count": 8
    }
   ],
   "metadata": {}
  },
  {
   "cell_type": "code",
   "execution_count": null,
   "source": [
    "min_obs = "
   ],
   "outputs": [],
   "metadata": {}
  }
 ],
 "metadata": {
  "orig_nbformat": 4,
  "language_info": {
   "name": "python",
   "version": "3.9.7",
   "mimetype": "text/x-python",
   "codemirror_mode": {
    "name": "ipython",
    "version": 3
   },
   "pygments_lexer": "ipython3",
   "nbconvert_exporter": "python",
   "file_extension": ".py"
  },
  "kernelspec": {
   "name": "python3",
   "display_name": "Python 3.9.7 64-bit"
  },
  "interpreter": {
   "hash": "183dceb56ef4d021afcefd19be4a9788cca5952f3dce5c33bfd6da6c8e89c35a"
  }
 },
 "nbformat": 4,
 "nbformat_minor": 2
}