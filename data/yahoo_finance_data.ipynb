{
 "cells": [
  {
   "cell_type": "code",
   "execution_count": 1,
   "source": [
    "import pandas as pd\r\n",
    "import yfinance as yf"
   ],
   "outputs": [],
   "metadata": {}
  },
  {
   "cell_type": "code",
   "execution_count": null,
   "source": [
    "ativos = ['PETR4.SA', 'VALE3.SA', 'ITUB4.SA']\r\n",
    "\r\n",
    "df = yf.download(ativos)"
   ],
   "outputs": [],
   "metadata": {}
  }
 ],
 "metadata": {
  "orig_nbformat": 4,
  "language_info": {
   "name": "python",
   "version": "3.9.7",
   "mimetype": "text/x-python",
   "codemirror_mode": {
    "name": "ipython",
    "version": 3
   },
   "pygments_lexer": "ipython3",
   "nbconvert_exporter": "python",
   "file_extension": ".py"
  },
  "kernelspec": {
   "name": "python3",
   "display_name": "Python 3.9.7 64-bit"
  },
  "interpreter": {
   "hash": "183dceb56ef4d021afcefd19be4a9788cca5952f3dce5c33bfd6da6c8e89c35a"
  }
 },
 "nbformat": 4,
 "nbformat_minor": 2
}